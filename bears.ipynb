{
 "cells": [
  {
   "cell_type": "code",
   "execution_count": 2,
   "id": "active-circulation",
   "metadata": {},
   "outputs": [
    {
     "name": "stdout",
     "output_type": "stream",
     "text": [
      "Requirement already satisfied: fastbook in c:\\users\\zhang\\anaconda3\\lib\\site-packages (0.0.16)\n",
      "Requirement already satisfied: requests in c:\\users\\zhang\\anaconda3\\lib\\site-packages (from fastbook) (2.25.1)\n",
      "Requirement already satisfied: pip in c:\\users\\zhang\\anaconda3\\lib\\site-packages (from fastbook) (21.0.1)\n",
      "Requirement already satisfied: packaging in c:\\users\\zhang\\anaconda3\\lib\\site-packages (from fastbook) (20.9)\n",
      "Requirement already satisfied: fastai>=2.1 in c:\\users\\zhang\\anaconda3\\lib\\site-packages (from fastbook) (2.3.1)\n",
      "Requirement already satisfied: pandas in c:\\users\\zhang\\anaconda3\\lib\\site-packages (from fastbook) (1.2.3)\n",
      "Requirement already satisfied: ipywidgets in c:\\users\\zhang\\anaconda3\\lib\\site-packages (from fastbook) (7.6.3)\n",
      "Requirement already satisfied: nbdev>=0.2.38 in c:\\users\\zhang\\anaconda3\\lib\\site-packages (from fastbook) (1.1.14)\n",
      "Requirement already satisfied: sentencepiece in c:\\users\\zhang\\anaconda3\\lib\\site-packages (from fastbook) (0.1.95)\n",
      "Requirement already satisfied: spacy<4 in c:\\users\\zhang\\anaconda3\\lib\\site-packages (from fastai>=2.1->fastbook) (3.0.6)\n",
      "Requirement already satisfied: fastcore<1.4,>=1.3.8 in c:\\users\\zhang\\anaconda3\\lib\\site-packages (from fastai>=2.1->fastbook) (1.3.20)\n",
      "Requirement already satisfied: matplotlib in c:\\users\\zhang\\anaconda3\\lib\\site-packages (from fastai>=2.1->fastbook) (3.3.4)\n",
      "Requirement already satisfied: scipy in c:\\users\\zhang\\anaconda3\\lib\\site-packages (from fastai>=2.1->fastbook) (1.6.1)\n",
      "Requirement already satisfied: fastprogress>=0.2.4 in c:\\users\\zhang\\anaconda3\\lib\\site-packages (from fastai>=2.1->fastbook) (1.0.0)\n",
      "Requirement already satisfied: torch<1.9,>=1.7.0 in c:\\users\\zhang\\anaconda3\\lib\\site-packages (from fastai>=2.1->fastbook) (1.8.1)\n",
      "Requirement already satisfied: pillow>6.0.0 in c:\\users\\zhang\\anaconda3\\lib\\site-packages (from fastai>=2.1->fastbook) (8.1.2)\n",
      "Requirement already satisfied: torchvision>=0.8.2 in c:\\users\\zhang\\anaconda3\\lib\\site-packages (from fastai>=2.1->fastbook) (0.9.1)\n",
      "Requirement already satisfied: scikit-learn in c:\\users\\zhang\\anaconda3\\lib\\site-packages (from fastai>=2.1->fastbook) (0.24.1)\n",
      "Requirement already satisfied: pyyaml in c:\\users\\zhang\\anaconda3\\lib\\site-packages (from fastai>=2.1->fastbook) (5.4.1)\n",
      "Requirement already satisfied: numpy in c:\\users\\zhang\\anaconda3\\lib\\site-packages (from fastprogress>=0.2.4->fastai>=2.1->fastbook) (1.19.2)\n",
      "Requirement already satisfied: jupyter-client<=6.1.12 in c:\\users\\zhang\\anaconda3\\lib\\site-packages (from nbdev>=0.2.38->fastbook) (6.1.7)\n",
      "Requirement already satisfied: ghapi in c:\\users\\zhang\\anaconda3\\lib\\site-packages (from nbdev>=0.2.38->fastbook) (0.1.16)\n",
      "Requirement already satisfied: ipykernel in c:\\users\\zhang\\anaconda3\\lib\\site-packages (from nbdev>=0.2.38->fastbook) (5.3.4)\n",
      "Requirement already satisfied: fastrelease in c:\\users\\zhang\\anaconda3\\lib\\site-packages (from nbdev>=0.2.38->fastbook) (0.1.11)\n",
      "Requirement already satisfied: nbconvert<6 in c:\\users\\zhang\\anaconda3\\lib\\site-packages (from nbdev>=0.2.38->fastbook) (5.6.1)\n",
      "Requirement already satisfied: jupyter in c:\\users\\zhang\\anaconda3\\lib\\site-packages (from nbdev>=0.2.38->fastbook) (1.0.0)\n",
      "Requirement already satisfied: nbformat>=4.4.0 in c:\\users\\zhang\\anaconda3\\lib\\site-packages (from nbdev>=0.2.38->fastbook) (5.1.2)\n",
      "Requirement already satisfied: traitlets in c:\\users\\zhang\\anaconda3\\lib\\site-packages (from jupyter-client<=6.1.12->nbdev>=0.2.38->fastbook) (5.0.5)\n",
      "Requirement already satisfied: pyzmq>=13 in c:\\users\\zhang\\anaconda3\\lib\\site-packages (from jupyter-client<=6.1.12->nbdev>=0.2.38->fastbook) (20.0.0)\n",
      "Requirement already satisfied: tornado>=4.1 in c:\\users\\zhang\\anaconda3\\lib\\site-packages (from jupyter-client<=6.1.12->nbdev>=0.2.38->fastbook) (6.1)\n",
      "Requirement already satisfied: jupyter-core>=4.6.0 in c:\\users\\zhang\\anaconda3\\lib\\site-packages (from jupyter-client<=6.1.12->nbdev>=0.2.38->fastbook) (4.7.1)\n",
      "Requirement already satisfied: python-dateutil>=2.1 in c:\\users\\zhang\\anaconda3\\lib\\site-packages (from jupyter-client<=6.1.12->nbdev>=0.2.38->fastbook) (2.8.1)\n",
      "Requirement already satisfied: pywin32>=1.0 in c:\\users\\zhang\\anaconda3\\lib\\site-packages (from jupyter-core>=4.6.0->jupyter-client<=6.1.12->nbdev>=0.2.38->fastbook) (227)\n",
      "Requirement already satisfied: defusedxml in c:\\users\\zhang\\anaconda3\\lib\\site-packages (from nbconvert<6->nbdev>=0.2.38->fastbook) (0.7.1)\n",
      "Requirement already satisfied: pygments in c:\\users\\zhang\\anaconda3\\lib\\site-packages (from nbconvert<6->nbdev>=0.2.38->fastbook) (2.8.1)\n",
      "Requirement already satisfied: pandocfilters>=1.4.1 in c:\\users\\zhang\\anaconda3\\lib\\site-packages (from nbconvert<6->nbdev>=0.2.38->fastbook) (1.4.3)\n",
      "Requirement already satisfied: jinja2>=2.4 in c:\\users\\zhang\\anaconda3\\lib\\site-packages (from nbconvert<6->nbdev>=0.2.38->fastbook) (2.11.3)\n",
      "Requirement already satisfied: mistune<2,>=0.8.1 in c:\\users\\zhang\\anaconda3\\lib\\site-packages (from nbconvert<6->nbdev>=0.2.38->fastbook) (0.8.4)\n",
      "Requirement already satisfied: bleach in c:\\users\\zhang\\anaconda3\\lib\\site-packages (from nbconvert<6->nbdev>=0.2.38->fastbook) (3.3.0)\n",
      "Requirement already satisfied: entrypoints>=0.2.2 in c:\\users\\zhang\\anaconda3\\lib\\site-packages (from nbconvert<6->nbdev>=0.2.38->fastbook) (0.3)\n",
      "Requirement already satisfied: testpath in c:\\users\\zhang\\anaconda3\\lib\\site-packages (from nbconvert<6->nbdev>=0.2.38->fastbook) (0.4.4)\n",
      "Requirement already satisfied: MarkupSafe>=0.23 in c:\\users\\zhang\\anaconda3\\lib\\site-packages (from jinja2>=2.4->nbconvert<6->nbdev>=0.2.38->fastbook) (1.1.1)\n",
      "Requirement already satisfied: ipython-genutils in c:\\users\\zhang\\anaconda3\\lib\\site-packages (from nbformat>=4.4.0->nbdev>=0.2.38->fastbook) (0.2.0)\n",
      "Requirement already satisfied: jsonschema!=2.5.0,>=2.4 in c:\\users\\zhang\\anaconda3\\lib\\site-packages (from nbformat>=4.4.0->nbdev>=0.2.38->fastbook) (3.2.0)\n",
      "Requirement already satisfied: attrs>=17.4.0 in c:\\users\\zhang\\anaconda3\\lib\\site-packages (from jsonschema!=2.5.0,>=2.4->nbformat>=4.4.0->nbdev>=0.2.38->fastbook) (20.3.0)\n",
      "Requirement already satisfied: six>=1.11.0 in c:\\users\\zhang\\anaconda3\\lib\\site-packages (from jsonschema!=2.5.0,>=2.4->nbformat>=4.4.0->nbdev>=0.2.38->fastbook) (1.15.0)\n",
      "Requirement already satisfied: setuptools in c:\\users\\zhang\\anaconda3\\lib\\site-packages (from jsonschema!=2.5.0,>=2.4->nbformat>=4.4.0->nbdev>=0.2.38->fastbook) (52.0.0.post20210125)\n",
      "Requirement already satisfied: pyrsistent>=0.14.0 in c:\\users\\zhang\\anaconda3\\lib\\site-packages (from jsonschema!=2.5.0,>=2.4->nbformat>=4.4.0->nbdev>=0.2.38->fastbook) (0.17.3)\n",
      "Requirement already satisfied: murmurhash<1.1.0,>=0.28.0 in c:\\users\\zhang\\anaconda3\\lib\\site-packages (from spacy<4->fastai>=2.1->fastbook) (1.0.5)\n",
      "Requirement already satisfied: blis<0.8.0,>=0.4.0 in c:\\users\\zhang\\anaconda3\\lib\\site-packages (from spacy<4->fastai>=2.1->fastbook) (0.7.4)\n",
      "Requirement already satisfied: cymem<2.1.0,>=2.0.2 in c:\\users\\zhang\\anaconda3\\lib\\site-packages (from spacy<4->fastai>=2.1->fastbook) (2.0.5)\n",
      "Requirement already satisfied: catalogue<2.1.0,>=2.0.3 in c:\\users\\zhang\\anaconda3\\lib\\site-packages (from spacy<4->fastai>=2.1->fastbook) (2.0.4)\n",
      "Requirement already satisfied: pydantic<1.8.0,>=1.7.1 in c:\\users\\zhang\\anaconda3\\lib\\site-packages (from spacy<4->fastai>=2.1->fastbook) (1.7.4)\n",
      "Requirement already satisfied: spacy-legacy<3.1.0,>=3.0.4 in c:\\users\\zhang\\anaconda3\\lib\\site-packages (from spacy<4->fastai>=2.1->fastbook) (3.0.5)\n",
      "Requirement already satisfied: tqdm<5.0.0,>=4.38.0 in c:\\users\\zhang\\anaconda3\\lib\\site-packages (from spacy<4->fastai>=2.1->fastbook) (4.59.0)\n",
      "Requirement already satisfied: wasabi<1.1.0,>=0.8.1 in c:\\users\\zhang\\anaconda3\\lib\\site-packages (from spacy<4->fastai>=2.1->fastbook) (0.8.2)\n",
      "Requirement already satisfied: pathy>=0.3.5 in c:\\users\\zhang\\anaconda3\\lib\\site-packages (from spacy<4->fastai>=2.1->fastbook) (0.5.2)\n",
      "Requirement already satisfied: thinc<8.1.0,>=8.0.3 in c:\\users\\zhang\\anaconda3\\lib\\site-packages (from spacy<4->fastai>=2.1->fastbook) (8.0.3)\n",
      "Requirement already satisfied: typer<0.4.0,>=0.3.0 in c:\\users\\zhang\\anaconda3\\lib\\site-packages (from spacy<4->fastai>=2.1->fastbook) (0.3.2)\n",
      "Requirement already satisfied: preshed<3.1.0,>=3.0.2 in c:\\users\\zhang\\anaconda3\\lib\\site-packages (from spacy<4->fastai>=2.1->fastbook) (3.0.5)\n",
      "Requirement already satisfied: srsly<3.0.0,>=2.4.1 in c:\\users\\zhang\\anaconda3\\lib\\site-packages (from spacy<4->fastai>=2.1->fastbook) (2.4.1)\n",
      "Requirement already satisfied: pyparsing>=2.0.2 in c:\\users\\zhang\\anaconda3\\lib\\site-packages (from packaging->fastbook) (2.4.7)\n",
      "Requirement already satisfied: smart-open<4.0.0,>=2.2.0 in c:\\users\\zhang\\anaconda3\\lib\\site-packages (from pathy>=0.3.5->spacy<4->fastai>=2.1->fastbook) (3.0.0)\n",
      "Requirement already satisfied: urllib3<1.27,>=1.21.1 in c:\\users\\zhang\\anaconda3\\lib\\site-packages (from requests->fastbook) (1.26.4)\n",
      "Requirement already satisfied: idna<3,>=2.5 in c:\\users\\zhang\\anaconda3\\lib\\site-packages (from requests->fastbook) (2.10)\n",
      "Requirement already satisfied: chardet<5,>=3.0.2 in c:\\users\\zhang\\anaconda3\\lib\\site-packages (from requests->fastbook) (4.0.0)\n",
      "Requirement already satisfied: certifi>=2017.4.17 in c:\\users\\zhang\\anaconda3\\lib\\site-packages (from requests->fastbook) (2020.12.5)\n",
      "Requirement already satisfied: typing-extensions in c:\\users\\zhang\\anaconda3\\lib\\site-packages (from torch<1.9,>=1.7.0->fastai>=2.1->fastbook) (3.7.4.3)\n",
      "Requirement already satisfied: click<7.2.0,>=7.1.1 in c:\\users\\zhang\\anaconda3\\lib\\site-packages (from typer<0.4.0,>=0.3.0->spacy<4->fastai>=2.1->fastbook) (7.1.2)\n",
      "Requirement already satisfied: webencodings in c:\\users\\zhang\\anaconda3\\lib\\site-packages (from bleach->nbconvert<6->nbdev>=0.2.38->fastbook) (0.5.1)\n",
      "Requirement already satisfied: ipython>=5.0.0 in c:\\users\\zhang\\anaconda3\\lib\\site-packages (from ipykernel->nbdev>=0.2.38->fastbook) (7.21.0)\n",
      "Requirement already satisfied: decorator in c:\\users\\zhang\\anaconda3\\lib\\site-packages (from ipython>=5.0.0->ipykernel->nbdev>=0.2.38->fastbook) (4.4.2)\n",
      "Requirement already satisfied: jedi>=0.16 in c:\\users\\zhang\\anaconda3\\lib\\site-packages (from ipython>=5.0.0->ipykernel->nbdev>=0.2.38->fastbook) (0.17.2)\n",
      "Requirement already satisfied: prompt-toolkit!=3.0.0,!=3.0.1,<3.1.0,>=2.0.0 in c:\\users\\zhang\\anaconda3\\lib\\site-packages (from ipython>=5.0.0->ipykernel->nbdev>=0.2.38->fastbook) (3.0.8)\n",
      "Requirement already satisfied: pickleshare in c:\\users\\zhang\\anaconda3\\lib\\site-packages (from ipython>=5.0.0->ipykernel->nbdev>=0.2.38->fastbook) (0.7.5)\n",
      "Requirement already satisfied: backcall in c:\\users\\zhang\\anaconda3\\lib\\site-packages (from ipython>=5.0.0->ipykernel->nbdev>=0.2.38->fastbook) (0.2.0)\n",
      "Requirement already satisfied: colorama in c:\\users\\zhang\\anaconda3\\lib\\site-packages (from ipython>=5.0.0->ipykernel->nbdev>=0.2.38->fastbook) (0.4.4)\n",
      "Requirement already satisfied: parso<0.8.0,>=0.7.0 in c:\\users\\zhang\\anaconda3\\lib\\site-packages (from jedi>=0.16->ipython>=5.0.0->ipykernel->nbdev>=0.2.38->fastbook) (0.7.0)\n",
      "Requirement already satisfied: wcwidth in c:\\users\\zhang\\anaconda3\\lib\\site-packages (from prompt-toolkit!=3.0.0,!=3.0.1,<3.1.0,>=2.0.0->ipython>=5.0.0->ipykernel->nbdev>=0.2.38->fastbook) (0.2.5)\n",
      "Requirement already satisfied: widgetsnbextension~=3.5.0 in c:\\users\\zhang\\anaconda3\\lib\\site-packages (from ipywidgets->fastbook) (3.5.1)\n",
      "Requirement already satisfied: jupyterlab-widgets>=1.0.0 in c:\\users\\zhang\\anaconda3\\lib\\site-packages (from ipywidgets->fastbook) (1.0.0)\n",
      "Requirement already satisfied: notebook>=4.4.1 in c:\\users\\zhang\\anaconda3\\lib\\site-packages (from widgetsnbextension~=3.5.0->ipywidgets->fastbook) (6.2.0)\n",
      "Requirement already satisfied: prometheus-client in c:\\users\\zhang\\anaconda3\\lib\\site-packages (from notebook>=4.4.1->widgetsnbextension~=3.5.0->ipywidgets->fastbook) (0.9.0)\n",
      "Requirement already satisfied: Send2Trash>=1.5.0 in c:\\users\\zhang\\anaconda3\\lib\\site-packages (from notebook>=4.4.1->widgetsnbextension~=3.5.0->ipywidgets->fastbook) (1.5.0)\n",
      "Requirement already satisfied: terminado>=0.8.3 in c:\\users\\zhang\\anaconda3\\lib\\site-packages (from notebook>=4.4.1->widgetsnbextension~=3.5.0->ipywidgets->fastbook) (0.9.3)\n",
      "Requirement already satisfied: argon2-cffi in c:\\users\\zhang\\anaconda3\\lib\\site-packages (from notebook>=4.4.1->widgetsnbextension~=3.5.0->ipywidgets->fastbook) (20.1.0)\n",
      "Requirement already satisfied: pywinpty>=0.5 in c:\\users\\zhang\\anaconda3\\lib\\site-packages (from terminado>=0.8.3->notebook>=4.4.1->widgetsnbextension~=3.5.0->ipywidgets->fastbook) (0.5.7)\n",
      "Requirement already satisfied: cffi>=1.0.0 in c:\\users\\zhang\\anaconda3\\lib\\site-packages (from argon2-cffi->notebook>=4.4.1->widgetsnbextension~=3.5.0->ipywidgets->fastbook) (1.14.5)\n",
      "Requirement already satisfied: pycparser in c:\\users\\zhang\\anaconda3\\lib\\site-packages (from cffi>=1.0.0->argon2-cffi->notebook>=4.4.1->widgetsnbextension~=3.5.0->ipywidgets->fastbook) (2.20)\n",
      "Requirement already satisfied: qtconsole in c:\\users\\zhang\\anaconda3\\lib\\site-packages (from jupyter->nbdev>=0.2.38->fastbook) (5.0.2)\n",
      "Requirement already satisfied: jupyter-console in c:\\users\\zhang\\anaconda3\\lib\\site-packages (from jupyter->nbdev>=0.2.38->fastbook) (6.3.0)\n",
      "Requirement already satisfied: cycler>=0.10 in c:\\users\\zhang\\anaconda3\\lib\\site-packages (from matplotlib->fastai>=2.1->fastbook) (0.10.0)\n",
      "Requirement already satisfied: kiwisolver>=1.0.1 in c:\\users\\zhang\\anaconda3\\lib\\site-packages (from matplotlib->fastai>=2.1->fastbook) (1.3.1)\n",
      "Requirement already satisfied: pytz>=2017.3 in c:\\users\\zhang\\anaconda3\\lib\\site-packages (from pandas->fastbook) (2021.1)\n",
      "Requirement already satisfied: qtpy in c:\\users\\zhang\\anaconda3\\lib\\site-packages (from qtconsole->jupyter->nbdev>=0.2.38->fastbook) (1.9.0)\n",
      "Requirement already satisfied: threadpoolctl>=2.0.0 in c:\\users\\zhang\\anaconda3\\lib\\site-packages (from scikit-learn->fastai>=2.1->fastbook) (2.1.0)\n",
      "Requirement already satisfied: joblib>=0.11 in c:\\users\\zhang\\anaconda3\\lib\\site-packages (from scikit-learn->fastai>=2.1->fastbook) (1.0.1)\n"
     ]
    }
   ],
   "source": [
    "!pip install fastbook"
   ]
  },
  {
   "cell_type": "code",
   "execution_count": 3,
   "id": "dated-triple",
   "metadata": {},
   "outputs": [
    {
     "name": "stdout",
     "output_type": "stream",
     "text": [
      "Collecting voila\n",
      "  Downloading voila-0.2.10-py3-none-any.whl (1.6 MB)\n",
      "Requirement already satisfied: jupyter-client<7,>=6.1.3 in c:\\users\\zhang\\anaconda3\\lib\\site-packages (from voila) (6.1.7)\n",
      "Requirement already satisfied: nbclient<0.6,>=0.4.0 in c:\\users\\zhang\\anaconda3\\lib\\site-packages (from voila) (0.5.3)\n",
      "Collecting jupyter-server<2.0.0,>=0.3.0\n",
      "  Downloading jupyter_server-1.7.0-py3-none-any.whl (382 kB)\n",
      "Collecting nbconvert<7,>=6.0.0\n",
      "  Downloading nbconvert-6.0.7-py3-none-any.whl (552 kB)\n",
      "Requirement already satisfied: tornado>=4.1 in c:\\users\\zhang\\anaconda3\\lib\\site-packages (from jupyter-client<7,>=6.1.3->voila) (6.1)\n",
      "Requirement already satisfied: traitlets in c:\\users\\zhang\\anaconda3\\lib\\site-packages (from jupyter-client<7,>=6.1.3->voila) (5.0.5)\n",
      "Requirement already satisfied: python-dateutil>=2.1 in c:\\users\\zhang\\anaconda3\\lib\\site-packages (from jupyter-client<7,>=6.1.3->voila) (2.8.1)\n",
      "Requirement already satisfied: pyzmq>=13 in c:\\users\\zhang\\anaconda3\\lib\\site-packages (from jupyter-client<7,>=6.1.3->voila) (20.0.0)\n",
      "Requirement already satisfied: jupyter-core>=4.6.0 in c:\\users\\zhang\\anaconda3\\lib\\site-packages (from jupyter-client<7,>=6.1.3->voila) (4.7.1)\n",
      "Requirement already satisfied: pywin32>=1.0 in c:\\users\\zhang\\anaconda3\\lib\\site-packages (from jupyter-core>=4.6.0->jupyter-client<7,>=6.1.3->voila) (227)\n",
      "Requirement already satisfied: Send2Trash in c:\\users\\zhang\\anaconda3\\lib\\site-packages (from jupyter-server<2.0.0,>=0.3.0->voila) (1.5.0)\n",
      "Requirement already satisfied: ipython-genutils in c:\\users\\zhang\\anaconda3\\lib\\site-packages (from jupyter-server<2.0.0,>=0.3.0->voila) (0.2.0)\n",
      "Requirement already satisfied: argon2-cffi in c:\\users\\zhang\\anaconda3\\lib\\site-packages (from jupyter-server<2.0.0,>=0.3.0->voila) (20.1.0)\n",
      "Requirement already satisfied: jinja2 in c:\\users\\zhang\\anaconda3\\lib\\site-packages (from jupyter-server<2.0.0,>=0.3.0->voila) (2.11.3)\n",
      "Collecting websocket-client\n",
      "  Downloading websocket_client-0.59.0-py2.py3-none-any.whl (67 kB)\n",
      "Requirement already satisfied: prometheus-client in c:\\users\\zhang\\anaconda3\\lib\\site-packages (from jupyter-server<2.0.0,>=0.3.0->voila) (0.9.0)\n",
      "Collecting anyio<4,>=3.0.1\n",
      "  Downloading anyio-3.0.1-py3-none-any.whl (72 kB)\n",
      "Requirement already satisfied: terminado>=0.8.3 in c:\\users\\zhang\\anaconda3\\lib\\site-packages (from jupyter-server<2.0.0,>=0.3.0->voila) (0.9.3)\n",
      "Requirement already satisfied: nbformat in c:\\users\\zhang\\anaconda3\\lib\\site-packages (from jupyter-server<2.0.0,>=0.3.0->voila) (5.1.2)\n",
      "Requirement already satisfied: sniffio>=1.1 in c:\\users\\zhang\\anaconda3\\lib\\site-packages (from anyio<4,>=3.0.1->jupyter-server<2.0.0,>=0.3.0->voila) (1.2.0)\n",
      "Requirement already satisfied: idna>=2.8 in c:\\users\\zhang\\anaconda3\\lib\\site-packages (from anyio<4,>=3.0.1->jupyter-server<2.0.0,>=0.3.0->voila) (2.10)\n"
     ]
    },
    {
     "name": "stderr",
     "output_type": "stream",
     "text": [
      "ERROR: pip's dependency resolver does not currently take into account all the packages that are installed. This behaviour is the source of the following dependency conflicts.\n",
      "spyder 4.2.3 requires pyqt5<5.13, which is not installed.\n",
      "spyder 4.2.3 requires pyqtwebengine<5.13, which is not installed.\n",
      "nbdev 1.1.14 requires nbconvert<6, but you have nbconvert 6.0.7 which is incompatible.\n"
     ]
    },
    {
     "name": "stdout",
     "output_type": "stream",
     "text": [
      "Requirement already satisfied: nest-asyncio in c:\\users\\zhang\\anaconda3\\lib\\site-packages (from nbclient<0.6,>=0.4.0->voila) (1.5.1)\n",
      "Requirement already satisfied: async-generator in c:\\users\\zhang\\anaconda3\\lib\\site-packages (from nbclient<0.6,>=0.4.0->voila) (1.10)\n",
      "Requirement already satisfied: entrypoints>=0.2.2 in c:\\users\\zhang\\anaconda3\\lib\\site-packages (from nbconvert<7,>=6.0.0->voila) (0.3)\n",
      "Requirement already satisfied: pygments>=2.4.1 in c:\\users\\zhang\\anaconda3\\lib\\site-packages (from nbconvert<7,>=6.0.0->voila) (2.8.1)\n",
      "Requirement already satisfied: mistune<2,>=0.8.1 in c:\\users\\zhang\\anaconda3\\lib\\site-packages (from nbconvert<7,>=6.0.0->voila) (0.8.4)\n",
      "Requirement already satisfied: testpath in c:\\users\\zhang\\anaconda3\\lib\\site-packages (from nbconvert<7,>=6.0.0->voila) (0.4.4)\n",
      "Requirement already satisfied: jupyterlab-pygments in c:\\users\\zhang\\anaconda3\\lib\\site-packages (from nbconvert<7,>=6.0.0->voila) (0.1.2)\n",
      "Requirement already satisfied: bleach in c:\\users\\zhang\\anaconda3\\lib\\site-packages (from nbconvert<7,>=6.0.0->voila) (3.3.0)\n",
      "Requirement already satisfied: defusedxml in c:\\users\\zhang\\anaconda3\\lib\\site-packages (from nbconvert<7,>=6.0.0->voila) (0.7.1)\n",
      "Requirement already satisfied: pandocfilters>=1.4.1 in c:\\users\\zhang\\anaconda3\\lib\\site-packages (from nbconvert<7,>=6.0.0->voila) (1.4.3)\n",
      "Requirement already satisfied: MarkupSafe>=0.23 in c:\\users\\zhang\\anaconda3\\lib\\site-packages (from jinja2->jupyter-server<2.0.0,>=0.3.0->voila) (1.1.1)\n",
      "Requirement already satisfied: jsonschema!=2.5.0,>=2.4 in c:\\users\\zhang\\anaconda3\\lib\\site-packages (from nbformat->jupyter-server<2.0.0,>=0.3.0->voila) (3.2.0)\n",
      "Requirement already satisfied: pyrsistent>=0.14.0 in c:\\users\\zhang\\anaconda3\\lib\\site-packages (from jsonschema!=2.5.0,>=2.4->nbformat->jupyter-server<2.0.0,>=0.3.0->voila) (0.17.3)\n",
      "Requirement already satisfied: six>=1.11.0 in c:\\users\\zhang\\anaconda3\\lib\\site-packages (from jsonschema!=2.5.0,>=2.4->nbformat->jupyter-server<2.0.0,>=0.3.0->voila) (1.15.0)\n",
      "Requirement already satisfied: attrs>=17.4.0 in c:\\users\\zhang\\anaconda3\\lib\\site-packages (from jsonschema!=2.5.0,>=2.4->nbformat->jupyter-server<2.0.0,>=0.3.0->voila) (20.3.0)\n",
      "Requirement already satisfied: setuptools in c:\\users\\zhang\\anaconda3\\lib\\site-packages (from jsonschema!=2.5.0,>=2.4->nbformat->jupyter-server<2.0.0,>=0.3.0->voila) (52.0.0.post20210125)\n",
      "Requirement already satisfied: pywinpty>=0.5 in c:\\users\\zhang\\anaconda3\\lib\\site-packages (from terminado>=0.8.3->jupyter-server<2.0.0,>=0.3.0->voila) (0.5.7)\n",
      "Requirement already satisfied: cffi>=1.0.0 in c:\\users\\zhang\\anaconda3\\lib\\site-packages (from argon2-cffi->jupyter-server<2.0.0,>=0.3.0->voila) (1.14.5)\n",
      "Requirement already satisfied: pycparser in c:\\users\\zhang\\anaconda3\\lib\\site-packages (from cffi>=1.0.0->argon2-cffi->jupyter-server<2.0.0,>=0.3.0->voila) (2.20)\n",
      "Requirement already satisfied: packaging in c:\\users\\zhang\\anaconda3\\lib\\site-packages (from bleach->nbconvert<7,>=6.0.0->voila) (20.9)\n",
      "Requirement already satisfied: webencodings in c:\\users\\zhang\\anaconda3\\lib\\site-packages (from bleach->nbconvert<7,>=6.0.0->voila) (0.5.1)\n",
      "Requirement already satisfied: pyparsing>=2.0.2 in c:\\users\\zhang\\anaconda3\\lib\\site-packages (from packaging->bleach->nbconvert<7,>=6.0.0->voila) (2.4.7)\n",
      "Installing collected packages: websocket-client, nbconvert, anyio, jupyter-server, voila\n",
      "  Attempting uninstall: nbconvert\n",
      "    Found existing installation: nbconvert 5.6.1\n",
      "    Uninstalling nbconvert-5.6.1:\n",
      "      Successfully uninstalled nbconvert-5.6.1\n",
      "Successfully installed anyio-3.0.1 jupyter-server-1.7.0 nbconvert-6.0.7 voila-0.2.10 websocket-client-0.59.0\n"
     ]
    },
    {
     "name": "stderr",
     "output_type": "stream",
     "text": [
      "Enabling: voila\n",
      "- Writing config: C:\\Users\\zhang\\anaconda3\\etc\\jupyter\n",
      "    - Validating...\n",
      "      voila 0.2.10 ok\n"
     ]
    }
   ],
   "source": [
    "!pip install voila\n",
    "!jupyter serverextension enable --sys-prefix voila"
   ]
  },
  {
   "cell_type": "code",
   "execution_count": 11,
   "id": "apparent-richardson",
   "metadata": {},
   "outputs": [],
   "source": [
    "from fastbook import *\n",
    "from fastai.vision.widgets import *"
   ]
  },
  {
   "cell_type": "code",
   "execution_count": 13,
   "id": "direct-vienna",
   "metadata": {},
   "outputs": [
    {
     "data": {
      "application/vnd.jupyter.widget-view+json": {
       "model_id": "b51e6133edb747bba4b3888fc73d61cb",
       "version_major": 2,
       "version_minor": 0
      },
      "text/plain": [
       "VBox(children=(Label(value='Select your bear!'), FileUpload(value={}, description='Upload'), Button(descriptio…"
      ]
     },
     "metadata": {},
     "output_type": "display_data"
    }
   ],
   "source": [
    "btn_upload = widgets.FileUpload()\n",
    "out_pl = widgets.Output()\n",
    "lbl_pred = widgets.Label()\n",
    "btn_run = widgets.Button(description='Classify')\n",
    "def callback(change):\n",
    "    img = PILImage.create(btn_upload.data[-1]) # get image\n",
    "    out_pl.clear_output()                      # \n",
    "    with out_pl: display(img.to_thumb(128,128))\n",
    "    pred,pred_idx,probs = learner.predict(img)\n",
    "    lbl_pred.value = f'Prediction: {pred}; Probability: {probs[pred_idx]:.04f}'\n",
    "\n",
    "btn_run.on_click(callback)\n",
    "\n",
    "VBox([widgets.Label('Select your bear!'), \n",
    "      btn_upload, btn_run, out_pl, lbl_pred])"
   ]
  },
  {
   "cell_type": "code",
   "execution_count": null,
   "id": "educated-wages",
   "metadata": {},
   "outputs": [],
   "source": []
  },
  {
   "cell_type": "code",
   "execution_count": null,
   "id": "sound-syria",
   "metadata": {},
   "outputs": [],
   "source": []
  }
 ],
 "metadata": {
  "kernelspec": {
   "display_name": "Python 3",
   "language": "python",
   "name": "python3"
  },
  "language_info": {
   "codemirror_mode": {
    "name": "ipython",
    "version": 3
   },
   "file_extension": ".py",
   "mimetype": "text/x-python",
   "name": "python",
   "nbconvert_exporter": "python",
   "pygments_lexer": "ipython3",
   "version": "3.8.8"
  }
 },
 "nbformat": 4,
 "nbformat_minor": 5
}
